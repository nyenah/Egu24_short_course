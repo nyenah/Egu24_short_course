{
 "cells": [
  {
   "cell_type": "markdown",
   "id": "5e324c41-6490-482e-a922-b0b6ec322a1f",
   "metadata": {},
   "source": [
    "# Install the following packages in your terminal "
   ]
  },
  {
   "cell_type": "code",
   "execution_count": null,
   "id": "24e08ee6-a590-4374-8e09-ab062ef151d9",
   "metadata": {},
   "outputs": [],
   "source": [
    "# pip install pylint\n",
    "# pip install  pygount or \n",
    "# scc counter (https://github.com/boyter/scc) : not pip installed\n"
   ]
  },
  {
   "cell_type": "markdown",
   "id": "e0f8f994-6f89-473d-b948-7f915f00e7b2",
   "metadata": {},
   "source": [
    "#  1. Example code for code quality metrics\n",
    "\n",
    "## Linting (Metric: Lint Score)\n",
    "  Analyzing source code for potential errors and bugs\n",
    "\n",
    "  (e.g. for python the linter makes sure PEP8 guideline  is followed : https://peps.python.org/pep-0008/) \n",
    "  \n",
    "  Linter: pylint (https://pylint.readthedocs.io/en/latest/)"
   ]
  },
  {
   "cell_type": "code",
   "execution_count": null,
   "id": "e91d7812-ec33-4058-8512-eb17c85ce2db",
   "metadata": {},
   "outputs": [],
   "source": [
    "!pylint ./evapo/evapotranspiration.py"
   ]
  },
  {
   "cell_type": "markdown",
   "id": "56d56b16",
   "metadata": {},
   "source": [
    "There are several tools out there that fix some linting issues autmatically. For python, there is for example:\n",
    "- ruff https://docs.astral.sh/ruff/ \n",
    "- black https://black.readthedocs.io/en/stable/"
   ]
  },
  {
   "cell_type": "markdown",
   "id": "a0bc0977",
   "metadata": {},
   "source": [
    "For many languages pre-commit also provides automatic formatting of Code, see here: https://pre-commit.com.\n",
    "\n",
    "Let's install ruff and see if it can fix some of the linting issues we found above. Install ruff and run its formatter on the `evapotranspiration.py` file\n",
    "\n",
    "```bash\n",
    "pip install ruff\n",
    "ruff format evapo/evapotranspiration.py\n",
    "```\n",
    "Now let's see what pylint has to say about the formatted file'"
   ]
  },
  {
   "cell_type": "code",
   "execution_count": null,
   "id": "1df55a38",
   "metadata": {},
   "outputs": [],
   "source": [
    "!pylint ./evapo/evapotranspiration.py"
   ]
  },
  {
   "cell_type": "markdown",
   "id": "0aa6b29a",
   "metadata": {},
   "source": [
    "`ruff` has fixed the missing newline at the end of the file and our lintscore improved! For all code formatter you can modify the rules they are applying to your code (a common one is for example maximum line length). But some things automatic formatters cannot change like names of functions or how many parameters a method has. There it is the responsibility of the developer to judge if conforming to style rules makes sense."
   ]
  },
  {
   "cell_type": "markdown",
   "id": "c27b3bf6-65b2-4b05-8141-7f0a000ddef4",
   "metadata": {},
   "source": [
    "## Comment vs code Balance (Metric: Comment density:)\n",
    "\n",
    "According to Literature, 30-60% of all source lines of code should be comment lines\n",
    "\n",
    "Ref.\n",
    "1. O.Arafat et al 2009.:  https://doi.org/10.1109/ICSE-COMPANION.2009.5070980.\n",
    "2. H. He 2019: https://doi.org/10.1145/3338906.3342494."
   ]
  },
  {
   "cell_type": "code",
   "execution_count": null,
   "id": "ca56fb43-f052-4002-83f6-e2607e4a16b1",
   "metadata": {},
   "outputs": [],
   "source": [
    "!pygount --format=summary ./evapo/"
   ]
  },
  {
   "cell_type": "code",
   "execution_count": null,
   "id": "982ec9ec-f739-4132-ad12-66f2a158dcd2",
   "metadata": {},
   "outputs": [],
   "source": [
    "# Note that overall there are 6 blank lines \n",
    "# blank line in a \"\"\" \"\"\" is counted as a comment \n",
    "# percentage in the code counts includes blank lines \n",
    "\n",
    "Total_100_percent = 6+13+27 # 46 \n",
    "\n",
    "# But we only need code and comment lines for comment density \n",
    "code=13\n",
    "comment= 27\n",
    "\n",
    "comment_density = (code/(code+comment))*100\n",
    "print(f\"comment density: {comment_density} %\")\n"
   ]
  },
  {
   "cell_type": "markdown",
   "id": "62529521-8557-439e-80cf-29f284e0013b",
   "metadata": {},
   "source": [
    "## Let one module do one thing only (Metric: Modularity)\n",
    "We propose if number of code  and comment lines per file/module is more than 1000, the code might be doing something else "
   ]
  },
  {
   "cell_type": "code",
   "execution_count": null,
   "id": "9e656f2c-470a-4164-b94c-f4875129ba50",
   "metadata": {},
   "outputs": [],
   "source": [
    "modularity= (code+comment)/1000\n",
    "print(f\"modularity: {modularity}\")"
   ]
  },
  {
   "cell_type": "markdown",
   "id": "a193d39d",
   "metadata": {},
   "source": [
    "# 2. Documentation using Sphinx"
   ]
  },
  {
   "cell_type": "markdown",
   "id": "0196c171",
   "metadata": {},
   "source": [
    "## Introduction\n",
    "Sphinx is a powerful tool that makes it easy to create beautiful documentation for Python projects. In this tutorial, we'll walk through the steps to set up Sphinx documentation for an example Python project. \n"
   ]
  },
  {
   "cell_type": "markdown",
   "id": "60da0dc5",
   "metadata": {},
   "source": [
    "## Step 1: Create a virtual environment\n",
    "First, create a virtual environment for our project to keep our dependencies isolated.\n"
   ]
  },
  {
   "cell_type": "markdown",
   "id": "b8cc309a",
   "metadata": {},
   "source": [
    "```bash\n",
    "python -m venv /path/to/new/virtual/environment\n",
    "```\n",
    "Activate environment via \n",
    "\n",
    "```bash\n",
    "(windows)\n",
    "cd <name_of_virtualenv>\\Scripts\n",
    "activate.bat \n",
    "\n",
    "(bash)\n",
    "cd <name_of_virtualenv>/bin\n",
    "source activate \n",
    "```"
   ]
  },
  {
   "cell_type": "markdown",
   "id": "2c737de2",
   "metadata": {},
   "source": [
    "## Step 2: Install Sphinx\n",
    "Next, install Sphinx using pip:"
   ]
  },
  {
   "cell_type": "markdown",
   "id": "9d1de755",
   "metadata": {},
   "source": [
    "```bash\n",
    "pip install sphinx\n",
    "```"
   ]
  },
  {
   "cell_type": "markdown",
   "id": "dec1d605",
   "metadata": {},
   "source": [
    "## Step 3: Create a docs directory\n",
    "Create a directory named `docs` (at desired location) to hold all our documentation files and navigate to the docs folder.\n"
   ]
  },
  {
   "cell_type": "markdown",
   "id": "ef404aa4",
   "metadata": {},
   "source": [
    "```bash\n",
    "mkdir docs\n",
    "cd docs\n",
    "```"
   ]
  },
  {
   "cell_type": "markdown",
   "id": "b8fc31ed",
   "metadata": {},
   "source": [
    "## Step 4: Initialize Sphinx\n",
    "Inside the `docs` directory, initialize Sphinx by running:\n",
    "    \n",
    "\n",
    "```bash\n",
    "sphinx-quickstart\n",
    "```\n",
    "\n",
    "Follow the prompts to configure your Sphinx project. This will create an `index.rst` and `conf.py` file in a docs/source folder \n",
    "\n",
    "- conf.py : This file contains configurations such as the path to Python files to document and extensions to aid documentation.\n",
    "- index.rst: contains text which will be visualised to the html page\n"
   ]
  },
  {
   "cell_type": "markdown",
   "id": "575244ca",
   "metadata": {},
   "source": [
    "## Step 5: Generate  your first documenation  page\n",
    "Once your documentation is ready, generate HTML output by running:\n"
   ]
  },
  {
   "cell_type": "markdown",
   "id": "bbc82e9e",
   "metadata": {},
   "source": [
    "```bash\n",
    "make html\n",
    "```\n",
    "\n",
    "To view your html page navigate to the  docs\\build\\html and click on the index.html to see your activate web page \n"
   ]
  },
  {
   "cell_type": "markdown",
   "id": "d63de83f",
   "metadata": {},
   "source": [
    "## Step 6: Create a simple html page for evapotranspiration Python code.\n",
    "\n",
    "We will modify the conf.py and index files to create a simple html page for our evapotranspiration.py  file."
   ]
  },
  {
   "cell_type": "markdown",
   "id": "3a13a66b",
   "metadata": {},
   "source": [
    "\n",
    "We will be using  these Sphinx extension:\n",
    "- `sphinx.ext.autodoc`: Automatically document modules, classes, and functions based on docstrings.\n",
    "- `sphinx.ext.viewcode`: Adds links to source code in the documentation.\n",
    "- `sphinx.ext.mathjax`: Renders mathematical expressions using LaTeX syntax in the documentation.\n",
    "\n",
    "For more information of sphinx extensions please go to https://www.sphinx-doc.org/en/master/usage/extensions/index.html "
   ]
  },
  {
   "cell_type": "markdown",
   "id": "75f60fe8",
   "metadata": {},
   "source": [
    "## Step 7: Add extensions to Configuration file \n",
    "\n",
    "- Navigate to the conf.py in the docs/source folder\n",
    "- In the conf.py you should see a line (normally line 16) with code  \"extensions=[]\"  \n",
    "- add the extensions \n",
    "\n",
    "```bash\n",
    "extensions =  [\n",
    "    'sphinx.ext.autodoc',\n",
    "    'sphinx.ext.viewcode',\n",
    "    'sphinx.ext.mathjax',   \n",
    "]\n",
    "```"
   ]
  },
  {
   "cell_type": "markdown",
   "id": "0223c346",
   "metadata": {},
   "source": [
    "## Step 8: We also need to tell Sphinx where our source code is \n",
    "\n",
    "For this we add the path to source code in the conf.py. You can do this before or after line 6 (Project information). \n",
    "The example given below shows naviagtion to the evapo directory\n",
    "\n",
    "```bash\n",
    "import os\n",
    "import sys\n",
    "\n",
    "# Path to source code\n",
    "sys.path.insert(0, os.path.abspath('../../evapo'))\n",
    "```"
   ]
  },
  {
   "cell_type": "markdown",
   "id": "8a1551ab",
   "metadata": {},
   "source": [
    "## Step 9: Create an evapotranspiration restructured text file  \n",
    "\n",
    "Create an \"evapotranspiration.rst\" file in the path docs/source : this is where we will document our evpotranspiration code.  \n",
    "\n",
    "Example evapotranspiration.rst : \n",
    "\n",
    "```bash\n",
    "Evapotranspiration\n",
    "==================\n",
    "\n",
    ".. autoclass:: evapotranspiration.get_evapotranspiration\n",
    "   :members: calculate_pet\n",
    "   :special-members: __init__\n",
    "\n",
    "The potential evapotranspiration :math:`{E}_{pot}` :math:`[mm/d]` is calculated with the **Priestley–Taylor** equation according to Shuttleworth (1993) [1]_, as:\n",
    "\n",
    "\n",
    ".. math::\n",
    "   {E}_{pot} = \\alpha\\Big(\\frac{S_a R}{S_a + g}\\Big)\n",
    "\n",
    ":math:`\\alpha` is set to 1.26 in humid and to 1.74 in (semi)arid cells (see Appendix B in Müller et al. [2]_). :math:`R` is the net radiation :math:`[mm/d]` that depends on land cover (Table C2, Müller et al. [2]_). :math:`{S_a}` is the slope of the saturation vapor pressure–temperature relationship, and :math:`g` is the psychrometric constant :math:`[{\\frac{kPa}{°C}}]`. \n",
    "\n",
    "\n",
    "References \n",
    "----------\n",
    ".. [1] Shuttleworth, W.: Evaporation, in: Handbook of Hydrology, edited by: Maidment, D., McGraw-Hill, New York, 1–4, 1993\n",
    ".. [2]  Müller Schmied, H., Müller, R., Sanchez-Lorenzo, A., Ahrens, B., and Wild, M.: Evaluation of radiation components in a global freshwater model with station-based observations, Water, 8, 450, https://doi.org/10.3390/w8100450, 2016b\n",
    "\n",
    "```\n",
    "\n",
    "You can read more on the documentation syntax (autoclass, autofunction, etc)  from https://www.sphinx-doc.org/en/master/usage/extensions/autodoc.html \n"
   ]
  },
  {
   "cell_type": "markdown",
   "id": "f98ba5f3",
   "metadata": {},
   "source": [
    "Update your index.rst file to incorporate the newly restructured evapotranspiration file. Simply add the file name below the caption with correct spacing (3 spaces) as demonstrated below:\n",
    "\n",
    "\n",
    "```bash\n",
    "\n",
    ".. EGU documentation master file, created by\n",
    "   sphinx-quickstart on Wed Apr 18 13:52:47 2025.\n",
    "   You can adapt this file completely to your liking, but it should at least\n",
    "   contain the root `toctree` directive.\n",
    "   \n",
    "\n",
    "Welcome to EGU's documentation!\n",
    "===============================\n",
    "\n",
    ".. toctree::\n",
    "   :maxdepth: 2\n",
    "   :caption: Contents:\n",
    "\n",
    "   evapotranspiration\n",
    "\n",
    "\n",
    "Indices and tables\n",
    "==================\n",
    "\n",
    "* :ref:`genindex`\n",
    "* :ref:`modindex`\n",
    "* :ref:`search`\n",
    "```"
   ]
  },
  {
   "cell_type": "markdown",
   "id": "bd31ee38",
   "metadata": {},
   "source": [
    "## Step 10: Regenerate the html page\n",
    "\n",
    "```bash\n",
    "make html\n",
    "\n",
    "```"
   ]
  },
  {
   "cell_type": "markdown",
   "id": "8e7d9d71",
   "metadata": {},
   "source": [
    "Note!! With GitHub you also host your page (find more info here https://sphinx-intro-tutorial.readthedocs.io/en/latest/docs_hosting.html ). \n",
    "\n",
    "if you are new to reStructuredText syntax,  you can refer to the [cheatsheet](https://bashtage.github.io/sphinx-material/rst-cheatsheet/rst-cheatsheet.html) for syntax help."
   ]
  },
  {
   "cell_type": "markdown",
   "id": "a6b1ba87",
   "metadata": {},
   "source": [
    "# 3. Internal documentation using docstrings\n",
    "As you might have already noticed, the `calculate_pet` function has a multi-line string after its defnition, holding a desciption of its purpose, its paramteters and output. This type of string literal is called docstring in Python and it occurs as the first statement in a module, function, class, or method definition. \n",
    "\n",
    "Docstrings should be used to document each module, class and function in a project. The docstring becomes the __doc__ special attribute of that object and as such can be picked up by all kinds of tools.\n",
    "\n",
    "The docstring appears for example if we call the python help on the object:"
   ]
  },
  {
   "cell_type": "code",
   "execution_count": null,
   "id": "6e2dd25a",
   "metadata": {},
   "outputs": [],
   "source": [
    "from evapo import evapotranspiration\n",
    "evapotranspiration.get_evapotranspiration.calculate_pet?\n"
   ]
  },
  {
   "cell_type": "markdown",
   "id": "d5cb2024",
   "metadata": {},
   "source": [
    "Fill out the `TYPE` and `DESCRIPTION` placeholders in the docstring and check the documentation again:"
   ]
  },
  {
   "cell_type": "code",
   "execution_count": null,
   "id": "7ecf189d",
   "metadata": {},
   "outputs": [],
   "source": [
    "evapotranspiration.get_evapotranspiration.calculate_pet?"
   ]
  },
  {
   "cell_type": "markdown",
   "id": "29167d13",
   "metadata": {},
   "source": [
    "Docstrings can also be read into the external documentation using sphinx, as we already did before using `autodoc`.\n",
    "\n",
    "This statement: \n",
    "```bash\n",
    ".. autoclass:: evapotranspiration.get_evapotranspiration\n",
    "   :members: calculate_pet\n",
    "   :special-members: __init__\n",
    "```\n",
    "\n",
    "imports the docstring into the restructured text file. For bigger projects one can automaticall generate a whole API reference, that collects all available objects and their docstring into the documentation. Moreover, many IDEs can recognize and render the docstrings when an object is used in the Code.\n",
    "\n",
    "Produce a new documentation html:\n",
    "\n",
    "```bash\n",
    "make html\n",
    "\n",
    "```\n"
   ]
  },
  {
   "cell_type": "markdown",
   "id": "2b9c0544",
   "metadata": {},
   "source": [
    "The typical structure of a docstring is:\n",
    "- short description of the object and its purpose\n",
    "- list of the parameters, their type and a description of each parameter (with the heading `Parameters`)\n",
    "- list of return values, their types and a description of each return value (with the heading `Returns`)\n",
    "\n",
    "That is generally the minimum of information a docstring should contain.\n",
    "Other typical elements in docstrings are:\n",
    "- a description of the errors the object can raise and under which circumstances they occur (with the heading `Raises`)\n",
    "- Notes or Details, where the developers provide more details about the object and its purpose, this is often an extension of the very short description in the first few lines of the docstring\n",
    "- Examples how to use the function, method  or class\n",
    "- References\n",
    "\n",
    "See for example the documentation of the `numpy.mean` function here: https://numpy.org/doc/stable/reference/generated/numpy.mean.html#numpy.mean or the `numpy.bincount` function here: https://numpy.org/doc/stable/reference/generated/numpy.bincount.html (includes description of Errors.)"
   ]
  },
  {
   "cell_type": "markdown",
   "id": "ddb8a22a",
   "metadata": {},
   "source": [
    "Docstrings are also written in restructured text format. It takes some time to get used to but once you do, you can embed\n",
    "links, lists, tables, references and latex style math in your documentation!\n",
    "\n",
    "Most programming languages have a similar concept to docstrings implemented."
   ]
  },
  {
   "cell_type": "markdown",
   "id": "0d852d1d",
   "metadata": {},
   "source": [
    "# 4. Testing\n",
    "Regularly testing your code is essential to ensure its functionality. \n",
    "\n",
    "Install and then import the pytest package:"
   ]
  },
  {
   "cell_type": "code",
   "execution_count": null,
   "id": "99f50ebd",
   "metadata": {},
   "outputs": [],
   "source": [
    "!pip install -U pytest"
   ]
  },
  {
   "cell_type": "markdown",
   "id": "c6162f9b",
   "metadata": {},
   "source": [
    "Now create a `tests` directory. In the test directory, create a file `test_evapotranspiration.py`.\n",
    "\n",
    "Add the following header to the file:\n",
    "\n",
    "```python\n",
    "import sys \n",
    "import os\n",
    "\n",
    "sys.path.append(os.path.abspath(os.path.join(os.path.dirname(__file__), '..')))\n",
    "\n",
    "import pytest\n",
    "from evapo import evapotranspiration\n",
    "```"
   ]
  },
  {
   "cell_type": "markdown",
   "id": "9fbb8031",
   "metadata": {},
   "source": [
    "Now we want to test the contents of the `evapotranspiration.py` file, i.e. the `get_evaportanspiration` class: The `get_evapotranspiration` class has two methods: `__init__` and `calculate_pet`. Let's first test the `__init__`. Here, we only want to know if the class has all the attributes and methods we expect, so the test could look like this:\n",
    "\n",
    "```python\n",
    "def test_get_evapotranspiration_init():\n",
    "    evap_init = evapotranspiration.get_evapotranspiration()\n",
    "    \n",
    "    assert hasattr(evap_init, 'calculate_pet')\n",
    "    assert hasattr(evap_init, 'pt_coeff_arid')\n",
    "    assert hasattr(evap_init, 'pt_coeff_humid')\n",
    "    assert evap_init.pt_coeff_arid == 1.76\n",
    "    assert evap_init.pt_coeff_humid == 1.26\n",
    "```\n",
    "\n",
    "The `assert` statements here will raise errors if the `get_evapotranspiration` intitialization does not behave as we expect. That is, if the class does not have the methods we defined or if it does not have the attribues we assigned in the `__init__` method."
   ]
  },
  {
   "cell_type": "markdown",
   "id": "45bebc26",
   "metadata": {},
   "source": [
    "Execute the test by running the following cell:"
   ]
  },
  {
   "cell_type": "code",
   "execution_count": null,
   "id": "b0cee78c",
   "metadata": {},
   "outputs": [],
   "source": [
    "!pytest"
   ]
  },
  {
   "cell_type": "markdown",
   "id": "5de68598",
   "metadata": {},
   "source": [
    "The test passed! The class is initalized as expected. \n",
    "Now try changing `self.pt_coeff_arid` in the `__init__` method from 1.76 to 1.755. Save the file and run pytest again."
   ]
  },
  {
   "cell_type": "code",
   "execution_count": null,
   "id": "353645b7",
   "metadata": {},
   "outputs": [],
   "source": [
    "!pytest"
   ]
  },
  {
   "cell_type": "markdown",
   "id": "c3452a67",
   "metadata": {},
   "source": [
    "Now the test should have failed and it should show you where and why. Now change `self.pt_coeff_arid` back to its original value 1.76."
   ]
  },
  {
   "cell_type": "markdown",
   "id": "8eab0031",
   "metadata": {},
   "source": [
    "Let's continue to the `calculate_pet` method: here, we want to make sure that the function calculates the right value of evapotranspiration depending on the `region` parameter. Let's test if the function returns the correct value for an example of a humid region:\n",
    "\n",
    "```python\n",
    "def test_calculate_pet_humid():\n",
    "    evap = evapotranspiration.get_evapotranspiration()\n",
    "    result = evap.calculate_pet(2, 3, 4, \"humid\")\n",
    "    \n",
    "    expected_result = evap.pt_coeff_humid * (2 * 4 / (2 + 3))\n",
    "    assert result == expected_result\n",
    "```\n",
    "\n",
    "Run pytest again:"
   ]
  },
  {
   "cell_type": "code",
   "execution_count": null,
   "id": "c659af35",
   "metadata": {},
   "outputs": [],
   "source": [
    "!pytest"
   ]
  },
  {
   "cell_type": "markdown",
   "id": "31b74e10",
   "metadata": {},
   "source": [
    "Nice!\n",
    "\n",
    "Eventually, we want to cover all lines in our code with tests. With the `pytest-cov` plugin we can check how many lines we already tested, and what we are missing:"
   ]
  },
  {
   "cell_type": "code",
   "execution_count": null,
   "id": "0c4c5dc8",
   "metadata": {},
   "outputs": [],
   "source": [
    "!pip install pytest-cov"
   ]
  },
  {
   "cell_type": "code",
   "execution_count": null,
   "id": "275abeac",
   "metadata": {},
   "outputs": [],
   "source": [
    "!pytest --cov=evapo tests/"
   ]
  },
  {
   "cell_type": "markdown",
   "id": "e58ddcf9",
   "metadata": {},
   "source": [
    "We are missing one line in `evapotranspiration.py`. Add the option `--cov-report term-missing` to the command above and pytest will tell us which line it is:"
   ]
  },
  {
   "cell_type": "code",
   "execution_count": null,
   "id": "62e8dc12",
   "metadata": {},
   "outputs": [],
   "source": [
    "!pytest --cov=evapo tests/ --cov-report term-missing"
   ]
  },
  {
   "cell_type": "markdown",
   "id": "2c3e3f40",
   "metadata": {},
   "source": [
    "It is line 41. This line is called whenever the region is not `humid`. We need to also write a test for the arid case:\n",
    "\n",
    "```python\n",
    "def test_calculate_pet_arid():\n",
    "    evap = evapotranspiration.get_evapotranspiration()\n",
    "    result = evap.calculate_pet(2, 3, 4, \"arid\")\n",
    "    \n",
    "    expected_result = evap.pt_coeff_arid * (2 * 4 / (2 + 3))\n",
    "    assert result == expected_result\n",
    "```"
   ]
  },
  {
   "cell_type": "code",
   "execution_count": null,
   "id": "be407bd6",
   "metadata": {},
   "outputs": [],
   "source": [
    "!pytest --cov=evapo tests/"
   ]
  },
  {
   "cell_type": "markdown",
   "id": "cc603c22",
   "metadata": {},
   "source": [
    "Now all lines are covered by tests, and all tests pass!\n",
    "\n",
    "However, this alone does not mean there are sufficient number of tests implemented.\n",
    "\n",
    "Can you think of an additional test case, that might uncover a shortcoming of our function definition?"
   ]
  },
  {
   "cell_type": "markdown",
   "id": "f293862a",
   "metadata": {},
   "source": [
    "We should probably also test for cases where the input to region is not as we expect it to be:\n",
    "\n",
    "```python\n",
    "def test_calculate_pet_wrongregion():\n",
    "    evap = evapotranspiration.get_evapotranspiration()\n",
    "    result = evap.calculate_pet(2, 3, 4, \"humidd\")\n",
    "    \n",
    "    expected_result = evap.pt_coeff_humid * (2 * 4 / (2 + 3))\n",
    "    assert result == expected_result\n",
    "```"
   ]
  },
  {
   "cell_type": "code",
   "execution_count": null,
   "id": "bf042dae",
   "metadata": {},
   "outputs": [],
   "source": [
    "!pytest"
   ]
  },
  {
   "cell_type": "markdown",
   "id": "d856cb3f",
   "metadata": {},
   "source": [
    "This test will fail because whenever `region` is not exactly `humid` we calculate arid evapotranspiration. We should change the function instead of \n",
    "\n",
    "```python \n",
    "if region == \"humid\":\n",
    "    pet = self.pt_coeff_humid * (slope_svp * net_rad / (slope_svp + psy_cons))\n",
    "else:\n",
    "    pet = self.pt_coeff_arid * (slope_svp * net_rad / (slope_svp + psy_cons))\n",
    "return pet\n",
    "```\n",
    "\n",
    "we should do:\n",
    "\n",
    "```python\n",
    "if region == \"humid\":\n",
    "    pet = self.pt_coeff_humid * (slope_svp * net_rad / (slope_svp + psy_cons))\n",
    "elif region == \"arid\":\n",
    "    pet = self.pt_coeff_arid * (slope_svp * net_rad / (slope_svp + psy_cons))\n",
    "else:\n",
    "    ValueError(\"only `humid` and `arid` are valid regions!\")\n",
    "return pet\n",
    "```\n",
    "\n",
    "Now the function will raise an Error if the user does not input either \"humid\" or \"arid\" as regions.\n",
    "\n",
    "We should change the test from before to reflect this. You can test if Errors are raised as expected using `pytest.raises()`:\n",
    "\n",
    "```python\n",
    "def test_calculate_pet_wrongregion():\n",
    "    evap = evapotranspiration.get_evapotranspiration()\n",
    "    \n",
    "    with pytest.raise(ValueError, \"only `humid` and `arid` are valid regions!\"):\n",
    "        evap.calculate_pet(2, 3, 4, \"humidd\")\n",
    "\n",
    "```"
   ]
  },
  {
   "cell_type": "code",
   "execution_count": null,
   "id": "576140fd",
   "metadata": {},
   "outputs": [],
   "source": [
    "!pytest"
   ]
  },
  {
   "cell_type": "markdown",
   "id": "4c94bc55",
   "metadata": {},
   "source": [
    "**Thank you for participating, this is the end of the Notebook!**"
   ]
  }
 ],
 "metadata": {
  "kernelspec": {
   "display_name": "Python 3",
   "language": "python",
   "name": "python3"
  },
  "language_info": {
   "codemirror_mode": {
    "name": "ipython",
    "version": 3
   },
   "file_extension": ".py",
   "mimetype": "text/x-python",
   "name": "python",
   "nbconvert_exporter": "python",
   "pygments_lexer": "ipython3",
   "version": "3.12.8"
  }
 },
 "nbformat": 4,
 "nbformat_minor": 5
}
