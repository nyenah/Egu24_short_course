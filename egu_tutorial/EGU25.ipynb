{
 "cells": [
  {
   "cell_type": "markdown",
   "id": "5e324c41-6490-482e-a922-b0b6ec322a1f",
   "metadata": {},
   "source": [
    "# Install the following packages in your terminal "
   ]
  },
  {
   "cell_type": "code",
   "execution_count": 1,
   "id": "24e08ee6-a590-4374-8e09-ab062ef151d9",
   "metadata": {},
   "outputs": [],
   "source": [
    "# pip install pylint\n",
    "# pip install  pygount or \n",
    "# scc counter (https://github.com/boyter/scc) : not pip installed\n"
   ]
  },
  {
   "cell_type": "markdown",
   "id": "e0f8f994-6f89-473d-b948-7f915f00e7b2",
   "metadata": {},
   "source": [
    "#  1. Example code for code quality metrics\n",
    "\n",
    "## Linting (Metric: Lint Score)\n",
    "  Analyzing source code for potential errors and bugs\n",
    "\n",
    "  (e.g. for python the linter makes sure PEP8 guideline  is followed : https://peps.python.org/pep-0008/) \n",
    "  \n",
    "  Linter: pylint (https://pylint.readthedocs.io/en/latest/)"
   ]
  },
  {
   "cell_type": "code",
   "execution_count": 4,
   "id": "e91d7812-ec33-4058-8512-eb17c85ce2db",
   "metadata": {},
   "outputs": [
    {
     "name": "stdout",
     "output_type": "stream",
     "text": [
      "************* Module evapotranspiration\n",
      "evapo/evapotranspiration.py:46:0: C0304: Final newline missing (missing-final-newline)\n",
      "evapo/evapotranspiration.py:9:0: C0103: Class name \"get_evapotranspiration\" doesn't conform to PascalCase naming style (invalid-name)\n",
      "evapo/evapotranspiration.py:9:0: R0903: Too few public methods (1/2) (too-few-public-methods)\n",
      "\n",
      "-----------------------------------\n",
      "Your code has been rated at 7.50/10\n",
      "\n"
     ]
    }
   ],
   "source": [
    "!pylint ./evapo/evapotranspiration.py"
   ]
  },
  {
   "cell_type": "markdown",
   "id": "c27b3bf6-65b2-4b05-8141-7f0a000ddef4",
   "metadata": {},
   "source": [
    "# Comment vs code Balance (Metric: Comment density:)\n",
    "\n",
    "According to Literature, 30-60% of all source lines of code should be comment lines\n",
    "\n",
    "Ref.\n",
    "1. O.Arafat et al 2009.:  https://doi.org/10.1109/ICSE-COMPANION.2009.5070980.\n",
    "2. H. He 2019: https://doi.org/10.1145/3338906.3342494."
   ]
  },
  {
   "cell_type": "code",
   "execution_count": null,
   "id": "ca56fb43-f052-4002-83f6-e2607e4a16b1",
   "metadata": {},
   "outputs": [
    {
     "name": "stdout",
     "output_type": "stream",
     "text": [
      "\u001b[2KWorking... \u001b[90m━━━━━━━━━━━━━━━━━━━━━━━━━━━━━━━━━━━━━━━━\u001b[0m \u001b[35m100%\u001b[0m \u001b[36m0:00:00\u001b[0m\n",
      "\u001b[1A\u001b[2K┏━━━━━━━━━━┳━━━━━━━┳━━━━━━━┳━━━━━━┳━━━━━━┳━━━━━━━━━┳━━━━━━┓\n",
      "┃\u001b[1m \u001b[0m\u001b[1mLanguage\u001b[0m\u001b[1m \u001b[0m┃\u001b[1m \u001b[0m\u001b[1mFiles\u001b[0m\u001b[1m \u001b[0m┃\u001b[1m \u001b[0m\u001b[1m    %\u001b[0m\u001b[1m \u001b[0m┃\u001b[1m \u001b[0m\u001b[1mCode\u001b[0m\u001b[1m \u001b[0m┃\u001b[1m \u001b[0m\u001b[1m   %\u001b[0m\u001b[1m \u001b[0m┃\u001b[1m \u001b[0m\u001b[1mComment\u001b[0m\u001b[1m \u001b[0m┃\u001b[1m \u001b[0m\u001b[1m   %\u001b[0m\u001b[1m \u001b[0m┃\n",
      "┡━━━━━━━━━━╇━━━━━━━╇━━━━━━━╇━━━━━━╇━━━━━━╇━━━━━━━━━╇━━━━━━┩\n",
      "│ Python   │     1 │ 100.0 │   13 │ 28.3 │      27 │ 58.7 │\n",
      "├──────────┼───────┼───────┼──────┼──────┼─────────┼──────┤\n",
      "│ Sum      │     1 │ 100.0 │   13 │ 28.3 │      27 │ 58.7 │\n",
      "└──────────┴───────┴───────┴──────┴──────┴─────────┴──────┘\n"
     ]
    }
   ],
   "source": [
    "!pygount --format=summary ./evapo/"
   ]
  },
  {
   "cell_type": "code",
   "execution_count": 4,
   "id": "982ec9ec-f739-4132-ad12-66f2a158dcd2",
   "metadata": {},
   "outputs": [
    {
     "name": "stdout",
     "output_type": "stream",
     "text": [
      "comment density: 32.5 %\n"
     ]
    }
   ],
   "source": [
    "# Note that overall there are 6 blank lines \n",
    "# blank line in a \"\"\" \"\"\" is counted as a comment \n",
    "# percentage in the code counts includes blank lines \n",
    "\n",
    "Total_100_percent = 6+13+27 # 46 \n",
    "\n",
    "# But we only need code and comment lines for comment density \n",
    "code=13\n",
    "comment= 27\n",
    "\n",
    "comment_density = (code/(code+comment))*100\n",
    "print(f\"comment density: {comment_density} %\")\n"
   ]
  },
  {
   "cell_type": "markdown",
   "id": "62529521-8557-439e-80cf-29f284e0013b",
   "metadata": {},
   "source": [
    "# Let one module do one thing only (Metric: Modularity)\n",
    "We propose if number of code  and comment lines per file/module is more than 1000, the code might be doing something else "
   ]
  },
  {
   "cell_type": "code",
   "execution_count": 5,
   "id": "9e656f2c-470a-4164-b94c-f4875129ba50",
   "metadata": {},
   "outputs": [
    {
     "name": "stdout",
     "output_type": "stream",
     "text": [
      "modularity: 0.04\n"
     ]
    }
   ],
   "source": [
    "modularity= (code+comment)/1000\n",
    "print(f\"modularity: {modularity}\")"
   ]
  },
  {
   "cell_type": "markdown",
   "id": "a193d39d",
   "metadata": {},
   "source": [
    "# 2. Documentation using Sphinx"
   ]
  },
  {
   "cell_type": "markdown",
   "id": "0196c171",
   "metadata": {},
   "source": [
    "## Introduction\n",
    "Sphinx is a powerful tool that makes it easy to create beautiful documentation for Python projects. In this tutorial, we'll walk through the steps to set up Sphinx documentation for an example Python project. \n"
   ]
  },
  {
   "cell_type": "markdown",
   "id": "60da0dc5",
   "metadata": {},
   "source": [
    "## Step 1: Create a virtual environment\n",
    "First, create a virtual environment for our project to keep our dependencies isolated.\n"
   ]
  },
  {
   "cell_type": "markdown",
   "id": "b8cc309a",
   "metadata": {},
   "source": [
    "```bash\n",
    "python -m venv /path/to/new/virtual/environment\n",
    "```\n",
    "Activate environment via \n",
    "\n",
    "```bash\n",
    "(windows)\n",
    "cd <name_of_virtualenv>\\Scripts\n",
    "activate.bat \n",
    "\n",
    "(bash)\n",
    "cd <name_of_virtualenv>/bin\n",
    "source activate \n",
    "```"
   ]
  },
  {
   "cell_type": "markdown",
   "id": "2c737de2",
   "metadata": {},
   "source": [
    "## Step 2: Install Sphinx\n",
    "Next, install Sphinx using pip:"
   ]
  },
  {
   "cell_type": "markdown",
   "id": "9d1de755",
   "metadata": {},
   "source": [
    "```bash\n",
    "pip install sphinx\n",
    "```"
   ]
  },
  {
   "cell_type": "markdown",
   "id": "dec1d605",
   "metadata": {},
   "source": [
    "## Step 3: Create a docs directory\n",
    "Create a directory named `docs` (at desired location) to hold all our documentation files and navigate to the docs folder.\n"
   ]
  },
  {
   "cell_type": "markdown",
   "id": "ef404aa4",
   "metadata": {},
   "source": [
    "```bash\n",
    "mkdir docs\n",
    "cd docs\n",
    "```"
   ]
  },
  {
   "cell_type": "markdown",
   "id": "b8fc31ed",
   "metadata": {},
   "source": [
    "## Step 4: Initialize Sphinx\n",
    "Inside the `docs` directory, initialize Sphinx by running:\n",
    "    \n",
    "\n",
    "```bash\n",
    "sphinx-quickstart\n",
    "```\n",
    "\n",
    "Follow the prompts to configure your Sphinx project. This will create an `index.rst` and `conf.py` file in a docs/source folder \n",
    "\n",
    "- conf.py : This file contains configurations such as the path to Python files to document and extensions to aid documentation.\n",
    "- index.rst: contains text which will be visualised to the html page\n"
   ]
  },
  {
   "cell_type": "markdown",
   "id": "575244ca",
   "metadata": {},
   "source": [
    "## Step 5: Generate  your first documenation  page\n",
    "Once your documentation is ready, generate HTML output by running:\n"
   ]
  },
  {
   "cell_type": "markdown",
   "id": "bbc82e9e",
   "metadata": {},
   "source": [
    "```bash\n",
    "make html\n",
    "```\n",
    "\n",
    "To view your html page navigate to the  docs\\build\\html and click on the index.html to see your activate web page \n"
   ]
  },
  {
   "cell_type": "markdown",
   "id": "d63de83f",
   "metadata": {},
   "source": [
    "## Step 6: Create a simple html page for evapotranspiration Python code.\n",
    "\n",
    "We will modify the conf.py and index files to create a simple html page for our evapotranspiration.py  file."
   ]
  },
  {
   "cell_type": "markdown",
   "id": "3a13a66b",
   "metadata": {},
   "source": [
    "\n",
    "We will be using  these Sphinx extension:\n",
    "- `sphinx.ext.autodoc`: Automatically document modules, classes, and functions based on docstrings.\n",
    "- `sphinx.ext.viewcode`: Adds links to source code in the documentation.\n",
    "- `sphinx.ext.mathjax`: Renders mathematical expressions using LaTeX syntax in the documentation.\n",
    "\n",
    "For more information of sphinx extensions please go to https://www.sphinx-doc.org/en/master/usage/extensions/index.html "
   ]
  },
  {
   "cell_type": "markdown",
   "id": "75f60fe8",
   "metadata": {},
   "source": [
    "## Step 7: Add extensions to Configuration file \n",
    "\n",
    "- Navigate to the conf.py in the docs/source folder\n",
    "- In the conf.py you should see a line (normally line 16) with code  \"extensions=[]\"  \n",
    "- add the extensions \n",
    "\n",
    "```bash\n",
    "extensions =  [\n",
    "    'sphinx.ext.autodoc',\n",
    "    'sphinx.ext.viewcode',\n",
    "    'sphinx.ext.mathjax',   \n",
    "]\n",
    "```"
   ]
  },
  {
   "cell_type": "markdown",
   "id": "0223c346",
   "metadata": {},
   "source": [
    "## Step 8: We also need to tell Sphinx where our source code is \n",
    "\n",
    "For this we add the path to source code in the conf.py. You can do this before or after line 6 (Project information). \n",
    "The example given below shows naviagtion to the evapo directory\n",
    "\n",
    "```bash\n",
    "import os\n",
    "import sys\n",
    "\n",
    "# Path to source code\n",
    "sys.path.insert(0, os.path.abspath('../../evapo'))\n",
    "```"
   ]
  },
  {
   "cell_type": "markdown",
   "id": "8a1551ab",
   "metadata": {},
   "source": [
    "## Step 9: Create an evapotranspiration restructured text file  \n",
    "\n",
    "Create an \"evapotranspiration.rst\" file in the path docs/source : this is where we will document our evpotranspiration code.  \n",
    "\n",
    "Example evapotranspiration.rst : \n",
    "\n",
    "```bash\n",
    "Evapotranspiration\n",
    "==================\n",
    "\n",
    ".. autoclass:: evapotranspiration.get_evapotranspiration\n",
    "   :members: calculate_pet\n",
    "   :special-members: __init__\n",
    "\n",
    "The potential evapotranspiration :math:`{E}_{pot}` :math:`[mm/d]` is calculated with the **Priestley–Taylor** equation according to Shuttleworth (1993) [1]_, as:\n",
    "\n",
    "\n",
    ".. math::\n",
    "   {E}_{pot} = \\alpha\\Big(\\frac{S_a R}{S_a + g}\\Big)\n",
    "\n",
    ":math:`\\alpha` is set to 1.26 in humid and to 1.74 in (semi)arid cells (see Appendix B in Müller et al. [2]_). :math:`R` is the net radiation :math:`[mm/d]` that depends on land cover (Table C2, Müller et al. [2]_). :math:`{S_a}` is the slope of the saturation vapor pressure–temperature relationship, and :math:`g` is the psychrometric constant :math:`[{\\frac{kPa}{°C}}]`. \n",
    "\n",
    "\n",
    "References \n",
    "----------\n",
    ".. [1] Shuttleworth, W.: Evaporation, in: Handbook of Hydrology, edited by: Maidment, D., McGraw-Hill, New York, 1–4, 1993\n",
    ".. [2]  Müller Schmied, H., Müller, R., Sanchez-Lorenzo, A., Ahrens, B., and Wild, M.: Evaluation of radiation components in a global freshwater model with station-based observations, Water, 8, 450, https://doi.org/10.3390/w8100450, 2016b\n",
    "\n",
    "```\n",
    "\n",
    "You can read more on the documentation syntax (autoclass, autofunction, etc)  from https://www.sphinx-doc.org/en/master/usage/extensions/autodoc.html \n"
   ]
  },
  {
   "cell_type": "markdown",
   "id": "f98ba5f3",
   "metadata": {},
   "source": [
    "Update your index.rst file to incorporate the newly restructured evapotranspiration file. Simply add the file name below the caption with correct spacing (3 spaces) as demonstrated below:\n",
    "\n",
    "\n",
    "```bash\n",
    "\n",
    ".. EGU documentation master file, created by\n",
    "   sphinx-quickstart on Wed Apr 18 13:52:47 2025.\n",
    "   You can adapt this file completely to your liking, but it should at least\n",
    "   contain the root `toctree` directive.\n",
    "   \n",
    "\n",
    "Welcome to EGU's documentation!\n",
    "===============================\n",
    "\n",
    ".. toctree::\n",
    "   :maxdepth: 2\n",
    "   :caption: Contents:\n",
    "\n",
    "   evapotranspiration\n",
    "\n",
    "\n",
    "Indices and tables\n",
    "==================\n",
    "\n",
    "* :ref:`genindex`\n",
    "* :ref:`modindex`\n",
    "* :ref:`search`\n",
    "```"
   ]
  },
  {
   "cell_type": "markdown",
   "id": "bd31ee38",
   "metadata": {},
   "source": [
    "## Step 10: Regenerate the html page\n",
    "\n",
    "```bash\n",
    "make html\n",
    "\n",
    "```"
   ]
  },
  {
   "cell_type": "markdown",
   "id": "8e7d9d71",
   "metadata": {},
   "source": [
    "Note!! With GitHub you also host your page (find more info here https://sphinx-intro-tutorial.readthedocs.io/en/latest/docs_hosting.html ). \n",
    "\n",
    "if you are new to reStructuredText syntax,  you can refer to the [cheatsheet](https://bashtage.github.io/sphinx-material/rst-cheatsheet/rst-cheatsheet.html) for syntax help."
   ]
  },
  {
   "cell_type": "markdown",
   "id": "a6b1ba87",
   "metadata": {},
   "source": [
    "# 3. Internal documentation using docstrings\n",
    "As you might have already noticed, the `calculate_pet` function has a multi-line string after its defnition, holding a desciption of its purpose, its paramteters and output. This type of string literal is called docstring in Python and it occurs as the first statement in a module, function, class, or method definition. \n",
    "\n",
    "Docstrings should be used to document each module, class and function in a project. The docstring becomes the __doc__ special attribute of that object and as such can be picked up by all kinds of tools.\n",
    "\n",
    "The docstring appears for example if we call the python help on the object:"
   ]
  },
  {
   "cell_type": "code",
   "execution_count": 3,
   "id": "6e2dd25a",
   "metadata": {},
   "outputs": [
    {
     "name": "stdout",
     "output_type": "stream",
     "text": [
      "\u001b[0;31mSignature:\u001b[0m\n",
      "\u001b[0mevapotranspiration\u001b[0m\u001b[0;34m.\u001b[0m\u001b[0mget_evapotranspiration\u001b[0m\u001b[0;34m.\u001b[0m\u001b[0mcalculate_pet\u001b[0m\u001b[0;34m(\u001b[0m\u001b[0;34m\u001b[0m\n",
      "\u001b[0;34m\u001b[0m    \u001b[0mself\u001b[0m\u001b[0;34m,\u001b[0m\u001b[0;34m\u001b[0m\n",
      "\u001b[0;34m\u001b[0m    \u001b[0mslope_svp\u001b[0m\u001b[0;34m,\u001b[0m\u001b[0;34m\u001b[0m\n",
      "\u001b[0;34m\u001b[0m    \u001b[0mpsy_cons\u001b[0m\u001b[0;34m,\u001b[0m\u001b[0;34m\u001b[0m\n",
      "\u001b[0;34m\u001b[0m    \u001b[0mnet_rad\u001b[0m\u001b[0;34m,\u001b[0m\u001b[0;34m\u001b[0m\n",
      "\u001b[0;34m\u001b[0m    \u001b[0mregion\u001b[0m\u001b[0;34m,\u001b[0m\u001b[0;34m\u001b[0m\n",
      "\u001b[0;34m\u001b[0m\u001b[0;34m)\u001b[0m\u001b[0;34m\u001b[0m\u001b[0;34m\u001b[0m\u001b[0m\n",
      "\u001b[0;31mDocstring:\u001b[0m\n",
      "Compute Priestly-Taylor potential evapotranspiration.\n",
      "\n",
      "Parameters\n",
      "----------\n",
      "slope_svp : TYPE\n",
      "    DESCRIPTION.\n",
      "psy_cons : TYPE\n",
      "    DESCRIPTION.\n",
      "net_rad : TYPE\n",
      "    DESCRIPTION.\n",
      "region : TYPE\n",
      "    DESCRIPTION.\n",
      "\n",
      "Returns\n",
      "-------\n",
      "pet : TYPE\n",
      "    DESCRIPTION.\n",
      "\u001b[0;31mFile:\u001b[0m      ~/Developer/Egu24_short_course/egu_tutorial/evapo/evapotranspiration.py\n",
      "\u001b[0;31mType:\u001b[0m      function"
     ]
    }
   ],
   "source": [
    "from evapo import evapotranspiration\n",
    "evapotranspiration.get_evapotranspiration.calculate_pet?\n"
   ]
  },
  {
   "cell_type": "markdown",
   "id": "29167d13",
   "metadata": {},
   "source": [
    "Docstrings can also be read into the external documentation using sphinx, as we already did before using `autodoc`.\n",
    "\n",
    "This statement: \n",
    "```bash\n",
    ".. autoclass:: evapotranspiration.get_evapotranspiration\n",
    "   :members: calculate_pet\n",
    "   :special-members: __init__\n",
    "```\n",
    "\n",
    "imports the docstring into the restructured text file. For bigger projects one can automaticall generate a whole API reference, that collects all available objects and their docstring into the documentation. Moreover, many IDEs can recognize and render the docstrings when an object is used in the Code."
   ]
  },
  {
   "cell_type": "markdown",
   "id": "2b9c0544",
   "metadata": {},
   "source": [
    "The typical structure of a docstring is:\n",
    "- short description of the object and its purpose\n",
    "- list of the parameters, their type and a description of each parameter (with the heading `Parameters`)\n",
    "- list of return values, their types and a description of each return value (with the heading `Returns`)\n",
    "\n",
    "That is generally the minimum of information a docstring should contain.\n",
    "Other typical elements in docstrings are:\n",
    "- a description of the errors the object can raise and under which circumstances they occur (with the heading `Raises`)\n",
    "- Notes or Details, where the developers provide more details about the object and its purpose, this is often an extension of the very short description in the first few lines of the docstring\n",
    "- Examples how to use the function, method  or class\n",
    "- References\n",
    "\n",
    "See for example the documentation of the `numpy.mean` function here: https://numpy.org/doc/stable/reference/generated/numpy.mean.html#numpy.mean or the `numpy.bincount` function here: https://numpy.org/doc/stable/reference/generated/numpy.bincount.html (includes description of Errors.)"
   ]
  },
  {
   "cell_type": "markdown",
   "id": "ddb8a22a",
   "metadata": {},
   "source": [
    "Docstrings are also written in restructured text format. It takes some time to get used to but once you do you can embed\n",
    "links, lists, tables, references and latex style math in your documentation!\n",
    "\n",
    "Most programming languages have a similar concept to docstrings implemented."
   ]
  }
 ],
 "metadata": {
  "kernelspec": {
   "display_name": "Python 3",
   "language": "python",
   "name": "python3"
  },
  "language_info": {
   "codemirror_mode": {
    "name": "ipython",
    "version": 3
   },
   "file_extension": ".py",
   "mimetype": "text/x-python",
   "name": "python",
   "nbconvert_exporter": "python",
   "pygments_lexer": "ipython3",
   "version": "3.12.8"
  }
 },
 "nbformat": 4,
 "nbformat_minor": 5
}
